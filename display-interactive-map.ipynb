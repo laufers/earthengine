{
 "cells": [
  {
   "cell_type": "markdown",
   "metadata": {},
   "source": [
    "# Overview\n",
    "\n",
    "This notebook demonstrates how to display Earth Engine generated tiles on an interactive map."
   ]
  },
  {
   "cell_type": "markdown",
   "metadata": {},
   "source": [
    "# Import Python modules"
   ]
  },
  {
   "cell_type": "code",
   "execution_count": 1,
   "metadata": {},
   "outputs": [],
   "source": [
    "import ee  # the Earth Engine Python API library\n",
    "import ipyleaflet  # an interactive mapping \"widget\" for the notebook"
   ]
  },
  {
   "cell_type": "markdown",
   "metadata": {},
   "source": [
    "# Initialize Earth Engine\n",
    "\n",
    "The following command initializes the Earth Engine Python API. If the cell output displays an error about needing to authenticate, open up a  JupyterLab terminal tab and run the command: `earthengine authenticate`"
   ]
  },
  {
   "cell_type": "code",
   "execution_count": 2,
   "metadata": {},
   "outputs": [],
   "source": [
    "ee.Initialize()"
   ]
  },
  {
   "cell_type": "markdown",
   "metadata": {},
   "source": [
    "# Display a Dynamic Map"
   ]
  },
  {
   "cell_type": "markdown",
   "metadata": {},
   "source": [
    "To display an Earth Engine generated tiles on the interactive map, we will use ipyleaflet's TileLayer object. First we start by defining a function that can generate a tile layer URL from an Earth Engine image object."
   ]
  },
  {
   "cell_type": "code",
   "execution_count": 3,
   "metadata": {},
   "outputs": [],
   "source": [
    "def GetTileLayerUrl(ee_image_object):\n",
    "#  map_id = ee.Image(ee_image_object).getMapId()\n",
    "  map_id = ee_image_object.getMapId()\n",
    "  tile_url_template = \"https://earthengine.googleapis.com/map/{mapid}/{{z}}/{{x}}/{{y}}?token={token}\"\n",
    "  return tile_url_template.format(**map_id)"
   ]
  },
  {
   "cell_type": "markdown",
   "metadata": {},
   "source": [
    "Next we define a collection of imagery that we want to display. The following creates a collection of imagery from the Sentinel-2 satellite, filtered to a single day."
   ]
  },
  {
   "cell_type": "code",
   "execution_count": 4,
   "metadata": {},
   "outputs": [],
   "source": [
    "s2 = ee.ImageCollection('COPERNICUS/S2').filterDate('2018-01-04', '2018-01-05' )"
   ]
  },
  {
   "cell_type": "code",
   "execution_count": 5,
   "metadata": {},
   "outputs": [],
   "source": [
    "#s2 = ee.ImageCollection('MODIS/006/MYD11A1').filterDate('2018-07-15','2018-07-16')"
   ]
  },
  {
   "cell_type": "markdown",
   "metadata": {},
   "source": [
    "Now we can create a map, add the Sentinel-2 tiles to it, and display it in the notebook."
   ]
  },
  {
   "cell_type": "code",
   "execution_count": 6,
   "metadata": {},
   "outputs": [
    {
     "data": {
      "application/vnd.jupyter.widget-view+json": {
       "model_id": "3eb031226f614422a2f3b467c507a2ea",
       "version_major": 2,
       "version_minor": 0
      },
      "text/plain": [
       "Map(basemap={'url': 'https://{s}.tile.openstreetmap.org/{z}/{x}/{y}.png', 'max_zoom': 19, 'attribution': 'Map …"
      ]
     },
     "metadata": {},
     "output_type": "display_data"
    }
   ],
   "source": [
    "map1 = ipyleaflet.Map(\n",
    "    center=(48.2082, 16.3779), zoom=4,\n",
    "    layout={'height':'400px'}\n",
    ")\n",
    "map1.add_layer(\n",
    "    ipyleaflet.TileLayer(url=GetTileLayerUrl(\n",
    "        s2.mosaic().visualize(min=0, max=3000, gamma=1.5, bands= ['B4', 'B3','B2'])\n",
    "    )\n",
    "))\n",
    "map1"
   ]
  },
  {
   "cell_type": "code",
   "execution_count": null,
   "metadata": {},
   "outputs": [],
   "source": []
  },
  {
   "cell_type": "code",
   "execution_count": 8,
   "metadata": {
    "collapsed": true
   },
   "outputs": [
    {
     "data": {
      "text/plain": [
       "\u001b[0;33mmodule attribute:\u001b[0m\n",
       "    \u001b[0;36m__cached__\u001b[0m\u001b[1;30m, \u001b[0m\u001b[0;36m__file__\u001b[0m\u001b[1;30m, \u001b[0m\u001b[0;36m__loader__\u001b[0m\u001b[1;30m, \u001b[0m\u001b[0;36m__name__\u001b[0m\u001b[1;30m, \u001b[0m\u001b[0;36m__package__\u001b[0m\u001b[1;30m, \u001b[0m\u001b[0;36m__path__\u001b[0m\u001b[1;30m, \u001b[0m\u001b[0;36m__spec__\u001b[0m\n",
       "\u001b[0;33mproperty:\u001b[0m\n",
       "    \u001b[0;36mAlgorithms\u001b[0m\u001b[1;30m, \u001b[0m\u001b[0;36m__builtins__\u001b[0m\u001b[1;30m, \u001b[0m\u001b[0;36m__version__\u001b[0m\u001b[1;30m, \u001b[0m\u001b[0;36m_generatedClasses\u001b[0m\u001b[1;30m, \u001b[0m\u001b[0;36m_helpers\u001b[0m\u001b[1;30m, \u001b[0m\u001b[0;36mapifunction\u001b[0m\u001b[1;30m, \u001b[0m\u001b[0;36mbatch\u001b[0m\u001b[1;30m, \u001b[0m\u001b[0;36mcollection\u001b[0m\u001b[1;30m, \u001b[0m\u001b[0;36mcollections\u001b[0m\u001b[1;30m, \u001b[0m\u001b[0;36mcomputedobject\u001b[0m\u001b[1;30m, \u001b[0m\u001b[0;36mcustomfunction\u001b[0m\u001b[1;30m, \u001b[0m\u001b[0;36mdata\u001b[0m\u001b[1;30m, \u001b[0m\u001b[0;36mdatetime\u001b[0m\u001b[1;30m, \u001b[0m\u001b[0;36mdeprecation\u001b[0m\u001b[1;30m, \u001b[0m\u001b[0;36mdeserializer\u001b[0m\u001b[1;30m, \u001b[0m\u001b[0;36mdictionary\u001b[0m\u001b[1;30m, \u001b[0m\u001b[0;36mee_date\u001b[0m\u001b[1;30m, \u001b[0m\u001b[0;36mee_exception\u001b[0m\u001b[1;30m, \u001b[0m\u001b[0;36mee_list\u001b[0m\u001b[1;30m, \u001b[0m\u001b[0;36mee_number\u001b[0m\u001b[1;30m, \u001b[0m\u001b[0;36mee_string\u001b[0m\u001b[1;30m, \u001b[0m\u001b[0;36mee_types\u001b[0m\u001b[1;30m, \u001b[0m\u001b[0;36melement\u001b[0m\u001b[1;30m, \u001b[0m\u001b[0;36mencodable\u001b[0m\u001b[1;30m, \u001b[0m\u001b[0;36mfeature\u001b[0m\u001b[1;30m, \u001b[0m\u001b[0;36mfeaturecollection\u001b[0m\u001b[1;30m, \u001b[0m\u001b[0;36mfilter\u001b[0m\u001b[1;30m, \u001b[0m\u001b[0;36mfunction\u001b[0m\u001b[1;30m, \u001b[0m\u001b[0;36mgeometry\u001b[0m\u001b[1;30m, \u001b[0m\u001b[0;36mimage\u001b[0m\u001b[1;30m, \u001b[0m\u001b[0;36mimagecollection\u001b[0m\u001b[1;30m, \u001b[0m\u001b[0;36minspect\u001b[0m\u001b[1;30m, \u001b[0m\u001b[0;36mnumbers\u001b[0m\u001b[1;30m, \u001b[0m\u001b[0;36moauth\u001b[0m\u001b[1;30m, \u001b[0m\u001b[0;36mos\u001b[0m\u001b[1;30m, \u001b[0m\u001b[0;36mserializer\u001b[0m\u001b[1;30m, \u001b[0m\u001b[0;36msix\u001b[0m\u001b[1;30m, \u001b[0m\u001b[0;36mterrain\u001b[0m\u001b[1;30m, \u001b[0m\u001b[0;36mtypes\u001b[0m\n",
       "\u001b[0;33mspecial attribute:\u001b[0m\n",
       "    \u001b[0;36m__doc__\u001b[0m\n",
       "\u001b[0;33mclass:\u001b[0m\n",
       "    \u001b[0;36mApiFunction:\u001b[0m \u001b[1;30mAn object representing an EE API Function.\u001b[0m\n",
       "    \u001b[0;36mArray:\u001b[0m \u001b[1;30mA representation of an Earth Engine computed object.\u001b[0m\n",
       "    \u001b[0;36mBlob:\u001b[0m \u001b[1;30mA representation of an Earth Engine computed object.\u001b[0m\n",
       "    \u001b[0;36mClassifier:\u001b[0m \u001b[1;30mA representation of an Earth Engine computed object.\u001b[0m\n",
       "    \u001b[0;36mClusterer:\u001b[0m \u001b[1;30mA representation of an Earth Engine computed object.\u001b[0m\n",
       "    \u001b[0;36mCollection:\u001b[0m \u001b[1;30mBase class for ImageCollection and FeatureCollection.\u001b[0m\n",
       "    \u001b[0;36mComputedObject:\u001b[0m \u001b[1;30mA representation of an Earth Engine computed object.\u001b[0m\n",
       "    \u001b[0;36mConfusionMatrix:\u001b[0m \u001b[1;30mA representation of an Earth Engine computed object.\u001b[0m\n",
       "    \u001b[0;36mCustomFunction:\u001b[0m \u001b[1;30mAn object representing a custom EE Function.\u001b[0m\n",
       "    \u001b[0;36mDate:\u001b[0m \u001b[1;30mAn object to represent dates.\u001b[0m\n",
       "    \u001b[0;36mDateRange:\u001b[0m \u001b[1;30mA representation of an Earth Engine computed object.\u001b[0m\n",
       "    \u001b[0;36mDictionary:\u001b[0m \u001b[1;30mAn object to represent dictionaries.\u001b[0m\n",
       "    \u001b[0;36mElement:\u001b[0m \u001b[1;30mBase class for ImageCollection and FeatureCollection.\u001b[0m\n",
       "    \u001b[0;36mEncodable:\u001b[0m \u001b[1;30mAn interface implemented by objects that can serialize themselves.\u001b[0m\n",
       "    \u001b[0;36mErrorMargin:\u001b[0m \u001b[1;30mA representation of an Earth Engine computed object.\u001b[0m\n",
       "    \u001b[0;36mFeature:\u001b[0m \u001b[1;30mAn object representing EE Features.\u001b[0m\n",
       "    \u001b[0;36mFeatureCollection:\u001b[0m \u001b[1;30mA representation of a FeatureCollection.\u001b[0m\n",
       "    \u001b[0;36mFilter:\u001b[0m \u001b[1;30mAn object to represent collection filters.\u001b[0m\n",
       "    \u001b[0;36mFunction:\u001b[0m \u001b[1;30mAn abstract base class for functions callable by the EE API.\u001b[0m\n",
       "    \u001b[0;36mGeometry:\u001b[0m \u001b[1;30mAn Earth Engine geometry.\u001b[0m\n",
       "    \u001b[0;36mImage:\u001b[0m \u001b[1;30mAn object to represent an Earth Engine image.\u001b[0m\n",
       "    \u001b[0;36mImageCollection:\u001b[0m \u001b[1;30mRepresentation for an Earth Engine ImageCollection.\u001b[0m\n",
       "    \u001b[0;36mJoin:\u001b[0m \u001b[1;30mA representation of an Earth Engine computed object.\u001b[0m\n",
       "    \u001b[0;36mKernel:\u001b[0m \u001b[1;30mA representation of an Earth Engine computed object.\u001b[0m\n",
       "    \u001b[0;36mList:\u001b[0m \u001b[1;30mAn object to represent lists.\u001b[0m\n",
       "    \u001b[0;36mNumber:\u001b[0m \u001b[1;30mAn object to represent numbers.\u001b[0m\n",
       "    \u001b[0;36mPixelType:\u001b[0m \u001b[1;30mA representation of an Earth Engine computed object.\u001b[0m\n",
       "    \u001b[0;36mProjection:\u001b[0m \u001b[1;30mA representation of an Earth Engine computed object.\u001b[0m\n",
       "    \u001b[0;36mReducer:\u001b[0m \u001b[1;30mA representation of an Earth Engine computed object.\u001b[0m\n",
       "    \u001b[0;36mSelectorSet:\u001b[0m \u001b[1;30mA representation of an Earth Engine computed object.\u001b[0m\n",
       "    \u001b[0;36mSerializer:\u001b[0m \u001b[1;30mA serializer for EE object trees.\u001b[0m\n",
       "    \u001b[0;36mString:\u001b[0m \u001b[1;30mAn object to represent strings.\u001b[0m\n",
       "    \u001b[0;36mTerrain:\u001b[0m \u001b[1;30mAn namespace for Terrain Algorithms.\u001b[0m\n",
       "    \u001b[0;36m_AlgorithmsContainer:\u001b[0m \u001b[1;30mA lightweight class that is used as a dictionary with dot notation.\u001b[0m\n",
       "\u001b[0;33mexception:\u001b[0m\n",
       "    \u001b[0;36mEEException:\u001b[0m \u001b[1;30mA simple exception for the EE library.\u001b[0m\n",
       "\u001b[0;33mfunction:\u001b[0m\n",
       "    \u001b[0;36mInitialize:\u001b[0m \u001b[1;30mInitialize the EE library.\u001b[0m\n",
       "    \u001b[0;36mReset:\u001b[0m \u001b[1;30mReset the library. Useful for re-initializing to a different server.\u001b[0m\n",
       "    \u001b[0;36mServiceAccountCredentials:\u001b[0m \u001b[1;30mConfigure OAuth2 credentials for a Google Service Account.\u001b[0m\n",
       "    \u001b[0;36m_GetPersistentCredentials:\u001b[0m \u001b[1;30mRead persistent credentials from ~/.config/earthengine.\u001b[0m\n",
       "    \u001b[0;36m_InitializeGeneratedClasses:\u001b[0m \u001b[1;30mGenerate classes for extra types that appear in the web API.\u001b[0m\n",
       "    \u001b[0;36m_InitializeUnboundMethods:\u001b[0m \u001b[1;30m\u001b[0m\n",
       "    \u001b[0;36m_MakeClass:\u001b[0m \u001b[1;30mGenerates a dynamic API class for a given name.\u001b[0m\n",
       "    \u001b[0;36m_Promote:\u001b[0m \u001b[1;30mWrap an argument in an object of the specified class.\u001b[0m\n",
       "    \u001b[0;36m_ResetGeneratedClasses:\u001b[0m \u001b[1;30mRemove the dynamic classes.\u001b[0m\n",
       "    \u001b[0;36mapply:\u001b[0m \u001b[1;30mCall a function with a dictionary of named arguments.\u001b[0m\n",
       "    \u001b[0;36mcall:\u001b[0m \u001b[1;30mInvoke the given algorithm with the specified args.\u001b[0m\n",
       "    \u001b[0;36mprofilePrinting:\u001b[0m \u001b[1;30mReturns a context manager that prints a profile of enclosed API calls.\u001b[0m"
      ]
     },
     "execution_count": 8,
     "metadata": {},
     "output_type": "execute_result"
    }
   ],
   "source": [
    "import pdir\n",
    "\n",
    "pdir(ee)"
   ]
  },
  {
   "cell_type": "code",
   "execution_count": 9,
   "metadata": {
    "collapsed": true
   },
   "outputs": [
    {
     "data": {
      "text/plain": [
       "\u001b[0;33mmodule attribute:\u001b[0m\n",
       "    \u001b[0;36m__cached__\u001b[0m\u001b[1;30m, \u001b[0m\u001b[0;36m__file__\u001b[0m\u001b[1;30m, \u001b[0m\u001b[0;36m__loader__\u001b[0m\u001b[1;30m, \u001b[0m\u001b[0;36m__name__\u001b[0m\u001b[1;30m, \u001b[0m\u001b[0;36m__package__\u001b[0m\u001b[1;30m, \u001b[0m\u001b[0;36m__path__\u001b[0m\u001b[1;30m, \u001b[0m\u001b[0;36m__spec__\u001b[0m\n",
       "\u001b[0;33mproperty:\u001b[0m\n",
       "    \u001b[0;36mEXTENSION_VERSION\u001b[0m\u001b[1;30m, \u001b[0m\u001b[0;36m__builtins__\u001b[0m\u001b[1;30m, \u001b[0m\u001b[0;36m__version__\u001b[0m\u001b[1;30m, \u001b[0m\u001b[0;36m_version\u001b[0m\u001b[1;30m, \u001b[0m\u001b[0;36mbasemaps\u001b[0m\u001b[1;30m, \u001b[0m\u001b[0;36mdef_loc\u001b[0m\u001b[1;30m, \u001b[0m\u001b[0;36mleaflet\u001b[0m\u001b[1;30m, \u001b[0m\u001b[0;36mversion_info\u001b[0m\u001b[1;30m, \u001b[0m\u001b[0;36mwidget_serialization\u001b[0m\u001b[1;30m, \u001b[0m\u001b[0;36mxarray_ds\u001b[0m\n",
       "\u001b[0;33mspecial attribute:\u001b[0m\n",
       "    \u001b[0;36m__doc__\u001b[0m\n",
       "\u001b[0;33mclass:\u001b[0m\n",
       "    \u001b[0;36mBool:\u001b[0m \u001b[1;30mA boolean (True, False) trait.\u001b[0m\n",
       "    \u001b[0;36mBox:\u001b[0m \u001b[1;30mDisplays multiple widgets in a group.\u001b[0m\n",
       "    \u001b[0;36mCallbackDispatcher:\u001b[0m \u001b[1;30mA structure for registering and running callbacks\u001b[0m\n",
       "    \u001b[0;36mCircle:\u001b[0m \u001b[1;30mA parent class for HasTraits that log.\u001b[0m\n",
       "    \u001b[0;36mCircleMarker:\u001b[0m \u001b[1;30mA parent class for HasTraits that log.\u001b[0m\n",
       "    \u001b[0;36mColor:\u001b[0m \u001b[1;30mA string holding a valid HTML color such as 'blue', '#060482', '#A80'\u001b[0m\n",
       "    \u001b[0;36mControl:\u001b[0m \u001b[1;30mA parent class for HasTraits that log.\u001b[0m\n",
       "    \u001b[0;36mDOMWidget:\u001b[0m \u001b[1;30mWidget that can be inserted into the DOM\u001b[0m\n",
       "    \u001b[0;36mDataset:\u001b[0m \u001b[1;30mAn xarray dataset trait type.\u001b[0m\n",
       "    \u001b[0;36mDict:\u001b[0m \u001b[1;30mAn instance of a Python dict.\u001b[0m\n",
       "    \u001b[0;36mDrawControl:\u001b[0m \u001b[1;30mA parent class for HasTraits that log.\u001b[0m\n",
       "    \u001b[0;36mEnum:\u001b[0m \u001b[1;30mAn enum whose value must be in a given sequence.\u001b[0m\n",
       "    \u001b[0;36mFeatureGroup:\u001b[0m \u001b[1;30mA parent class for HasTraits that log.\u001b[0m\n",
       "    \u001b[0;36mFloat:\u001b[0m \u001b[1;30mA float trait.\u001b[0m\n",
       "    \u001b[0;36mGeoJSON:\u001b[0m \u001b[1;30mA parent class for HasTraits that log.\u001b[0m\n",
       "    \u001b[0;36mHeatmap:\u001b[0m \u001b[1;30mA parent class for HasTraits that log.\u001b[0m\n",
       "    \u001b[0;36mImageOverlay:\u001b[0m \u001b[1;30mA parent class for HasTraits that log.\u001b[0m\n",
       "    \u001b[0;36mInstance:\u001b[0m \u001b[1;30mA trait whose value must be an instance of a specified class.\u001b[0m\n",
       "    \u001b[0;36mInt:\u001b[0m \u001b[1;30mAn int trait.\u001b[0m\n",
       "    \u001b[0;36mInteractMixin:\u001b[0m \u001b[1;30m\u001b[0m\n",
       "    \u001b[0;36mLayer:\u001b[0m \u001b[1;30mA parent class for HasTraits that log.\u001b[0m\n",
       "    \u001b[0;36mLayerGroup:\u001b[0m \u001b[1;30mA parent class for HasTraits that log.\u001b[0m\n",
       "    \u001b[0;36mLayersControl:\u001b[0m \u001b[1;30mA parent class for HasTraits that log.\u001b[0m\n",
       "    \u001b[0;36mList:\u001b[0m \u001b[1;30mAn instance of a Python list.\u001b[0m\n",
       "    \u001b[0;36mMap:\u001b[0m \u001b[1;30mWidget that can be inserted into the DOM\u001b[0m\n",
       "    \u001b[0;36mMarker:\u001b[0m \u001b[1;30mA parent class for HasTraits that log.\u001b[0m\n",
       "    \u001b[0;36mMarkerCluster:\u001b[0m \u001b[1;30mA parent class for HasTraits that log.\u001b[0m\n",
       "    \u001b[0;36mMeasureControl:\u001b[0m \u001b[1;30mA parent class for HasTraits that log.\u001b[0m\n",
       "    \u001b[0;36mMultiPolygon:\u001b[0m \u001b[1;30mA parent class for HasTraits that log.\u001b[0m\n",
       "    \u001b[0;36mPath:\u001b[0m \u001b[1;30mA parent class for HasTraits that log.\u001b[0m\n",
       "    \u001b[0;36mPolygon:\u001b[0m \u001b[1;30mA parent class for HasTraits that log.\u001b[0m\n",
       "    \u001b[0;36mPolyline:\u001b[0m \u001b[1;30mA parent class for HasTraits that log.\u001b[0m\n",
       "    \u001b[0;36mPopup:\u001b[0m \u001b[1;30mA parent class for HasTraits that log.\u001b[0m\n",
       "    \u001b[0;36mRasterLayer:\u001b[0m \u001b[1;30mA parent class for HasTraits that log.\u001b[0m\n",
       "    \u001b[0;36mRectangle:\u001b[0m \u001b[1;30mA parent class for HasTraits that log.\u001b[0m\n",
       "    \u001b[0;36mSplitMapControl:\u001b[0m \u001b[1;30mA parent class for HasTraits that log.\u001b[0m\n",
       "    \u001b[0;36mTileLayer:\u001b[0m \u001b[1;30mA parent class for HasTraits that log.\u001b[0m\n",
       "    \u001b[0;36mTuple:\u001b[0m \u001b[1;30mAn instance of a Python tuple.\u001b[0m\n",
       "    \u001b[0;36mUILayer:\u001b[0m \u001b[1;30mA parent class for HasTraits that log.\u001b[0m\n",
       "    \u001b[0;36mUnicode:\u001b[0m \u001b[1;30mA trait for unicode strings.\u001b[0m\n",
       "    \u001b[0;36mVectorLayer:\u001b[0m \u001b[1;30mA parent class for HasTraits that log.\u001b[0m\n",
       "    \u001b[0;36mVelocity:\u001b[0m \u001b[1;30mA parent class for HasTraits that log.\u001b[0m\n",
       "    \u001b[0;36mVideoOverlay:\u001b[0m \u001b[1;30mA parent class for HasTraits that log.\u001b[0m\n",
       "    \u001b[0;36mWMSLayer:\u001b[0m \u001b[1;30mA parent class for HasTraits that log.\u001b[0m\n",
       "    \u001b[0;36mWidget:\u001b[0m \u001b[1;30mA parent class for HasTraits that log.\u001b[0m\n",
       "    \u001b[0;36minteractive:\u001b[0m \u001b[1;30mA VBox container containing a group of interactive widgets tied to a\u001b[0m\n",
       "    \u001b[0;36mlink:\u001b[0m \u001b[1;30mLink traits from different objects together so they remain in sync.\u001b[0m\n",
       "\u001b[0;33mexception:\u001b[0m\n",
       "    \u001b[0;36mControlException:\u001b[0m \u001b[1;30mCommon base class for all non-exit exceptions.\u001b[0m\n",
       "    \u001b[0;36mLayerException:\u001b[0m \u001b[1;30mCommon base class for all non-exit exceptions.\u001b[0m\n",
       "    \u001b[0;36mTraitError:\u001b[0m \u001b[1;30mCommon base class for all non-exit exceptions.\u001b[0m\n",
       "\u001b[0;33mfunction:\u001b[0m\n",
       "    \u001b[0;36m_jupyter_nbextension_paths:\u001b[0m \u001b[1;30m\u001b[0m\n",
       "    \u001b[0;36mbasemap_to_tiles:\u001b[0m \u001b[1;30m\u001b[0m\n",
       "    \u001b[0;36mdefault:\u001b[0m \u001b[1;30mA decorator which assigns a dynamic default for a Trait on a HasTraits object.\u001b[0m\n",
       "    \u001b[0;36mds_x_to_json:\u001b[0m \u001b[1;30m\u001b[0m\n",
       "    \u001b[0;36mobserve:\u001b[0m \u001b[1;30mA decorator which can be used to observe Traits on a class.\u001b[0m\n",
       "    \u001b[0;36mvalidate:\u001b[0m \u001b[1;30mA decorator to register cross validator of HasTraits object's state\u001b[0m"
      ]
     },
     "execution_count": 9,
     "metadata": {},
     "output_type": "execute_result"
    }
   ],
   "source": [
    "pdir(ipyleaflet)"
   ]
  },
  {
   "cell_type": "code",
   "execution_count": 14,
   "metadata": {},
   "outputs": [
    {
     "name": "stdout",
     "output_type": "stream",
     "text": [
      "ee.Image({\n",
      "  \"type\": \"Invocation\",\n",
      "  \"arguments\": {\n",
      "    \"id\": \"COPERNICUS/S2\"\n",
      "  },\n",
      "  \"functionName\": \"Image.load\"\n",
      "})\n"
     ]
    }
   ],
   "source": [
    "image = ee.Image('COPERNICUS/S2')\n",
    "\n",
    "vizParams = {'bands': ['B5', 'B4', 'B3'],\n",
    "             'min': 0,\n",
    "             'max': 0.5,\n",
    "             'gamma': [0.95, 1.1, 1]\n",
    "}\n",
    "print(image)"
   ]
  },
  {
   "cell_type": "code",
   "execution_count": 15,
   "metadata": {},
   "outputs": [
    {
     "ename": "EEException",
     "evalue": "Image.load: Asset 'COPERNICUS/S2' is not an Image.",
     "output_type": "error",
     "traceback": [
      "\u001b[0;31m---------------------------------------------------------------------------\u001b[0m",
      "\u001b[0;31mEEException\u001b[0m                               Traceback (most recent call last)",
      "\u001b[0;32m<ipython-input-15-2d9e46b1791a>\u001b[0m in \u001b[0;36m<module>\u001b[0;34m()\u001b[0m\n\u001b[0;32m----> 1\u001b[0;31m \u001b[0mimage\u001b[0m\u001b[0;34m.\u001b[0m\u001b[0mgetMapId\u001b[0m\u001b[0;34m(\u001b[0m\u001b[0;34m)\u001b[0m\u001b[0;34m\u001b[0m\u001b[0m\n\u001b[0m",
      "\u001b[0;32m~/anaconda3/envs/ee/lib/python3.6/site-packages/ee/image.py\u001b[0m in \u001b[0;36mgetMapId\u001b[0;34m(self, vis_params)\u001b[0m\n\u001b[1;32m    127\u001b[0m     \u001b[0mrequest\u001b[0m \u001b[0;34m=\u001b[0m \u001b[0;34m(\u001b[0m\u001b[0mvis_params\u001b[0m \u001b[0;32mor\u001b[0m \u001b[0;34m{\u001b[0m\u001b[0;34m}\u001b[0m\u001b[0;34m)\u001b[0m\u001b[0;34m.\u001b[0m\u001b[0mcopy\u001b[0m\u001b[0;34m(\u001b[0m\u001b[0;34m)\u001b[0m\u001b[0;34m\u001b[0m\u001b[0m\n\u001b[1;32m    128\u001b[0m     \u001b[0mrequest\u001b[0m\u001b[0;34m[\u001b[0m\u001b[0;34m'image'\u001b[0m\u001b[0;34m]\u001b[0m \u001b[0;34m=\u001b[0m \u001b[0mself\u001b[0m\u001b[0;34m.\u001b[0m\u001b[0mserialize\u001b[0m\u001b[0;34m(\u001b[0m\u001b[0;34m)\u001b[0m\u001b[0;34m\u001b[0m\u001b[0m\n\u001b[0;32m--> 129\u001b[0;31m     \u001b[0mresponse\u001b[0m \u001b[0;34m=\u001b[0m \u001b[0mdata\u001b[0m\u001b[0;34m.\u001b[0m\u001b[0mgetMapId\u001b[0m\u001b[0;34m(\u001b[0m\u001b[0mrequest\u001b[0m\u001b[0;34m)\u001b[0m\u001b[0;34m\u001b[0m\u001b[0m\n\u001b[0m\u001b[1;32m    130\u001b[0m     \u001b[0mresponse\u001b[0m\u001b[0;34m[\u001b[0m\u001b[0;34m'image'\u001b[0m\u001b[0;34m]\u001b[0m \u001b[0;34m=\u001b[0m \u001b[0mself\u001b[0m\u001b[0;34m\u001b[0m\u001b[0m\n\u001b[1;32m    131\u001b[0m     \u001b[0;32mreturn\u001b[0m \u001b[0mresponse\u001b[0m\u001b[0;34m\u001b[0m\u001b[0m\n",
      "\u001b[0;32m~/anaconda3/envs/ee/lib/python3.6/site-packages/ee/data.py\u001b[0m in \u001b[0;36mgetMapId\u001b[0;34m(params)\u001b[0m\n\u001b[1;32m    232\u001b[0m   \"\"\"\n\u001b[1;32m    233\u001b[0m   \u001b[0mparams\u001b[0m\u001b[0;34m[\u001b[0m\u001b[0;34m'json_format'\u001b[0m\u001b[0;34m]\u001b[0m \u001b[0;34m=\u001b[0m \u001b[0;34m'v2'\u001b[0m\u001b[0;34m\u001b[0m\u001b[0m\n\u001b[0;32m--> 234\u001b[0;31m   \u001b[0;32mreturn\u001b[0m \u001b[0msend_\u001b[0m\u001b[0;34m(\u001b[0m\u001b[0;34m'/mapid'\u001b[0m\u001b[0;34m,\u001b[0m \u001b[0mparams\u001b[0m\u001b[0;34m)\u001b[0m\u001b[0;34m\u001b[0m\u001b[0m\n\u001b[0m\u001b[1;32m    235\u001b[0m \u001b[0;34m\u001b[0m\u001b[0m\n\u001b[1;32m    236\u001b[0m \u001b[0;34m\u001b[0m\u001b[0m\n",
      "\u001b[0;32m~/anaconda3/envs/ee/lib/python3.6/site-packages/ee/data.py\u001b[0m in \u001b[0;36msend_\u001b[0;34m(path, params, opt_method, opt_raw)\u001b[0m\n\u001b[1;32m    826\u001b[0m       \u001b[0;32mraise\u001b[0m \u001b[0mee_exception\u001b[0m\u001b[0;34m.\u001b[0m\u001b[0mEEException\u001b[0m\u001b[0;34m(\u001b[0m\u001b[0;34m'Invalid JSON: %s'\u001b[0m \u001b[0;34m%\u001b[0m \u001b[0mcontent\u001b[0m\u001b[0;34m)\u001b[0m\u001b[0;34m\u001b[0m\u001b[0m\n\u001b[1;32m    827\u001b[0m     \u001b[0;32mif\u001b[0m \u001b[0;34m'error'\u001b[0m \u001b[0;32min\u001b[0m \u001b[0mjson_content\u001b[0m\u001b[0;34m:\u001b[0m\u001b[0;34m\u001b[0m\u001b[0m\n\u001b[0;32m--> 828\u001b[0;31m       \u001b[0;32mraise\u001b[0m \u001b[0mee_exception\u001b[0m\u001b[0;34m.\u001b[0m\u001b[0mEEException\u001b[0m\u001b[0;34m(\u001b[0m\u001b[0mjson_content\u001b[0m\u001b[0;34m[\u001b[0m\u001b[0;34m'error'\u001b[0m\u001b[0;34m]\u001b[0m\u001b[0;34m[\u001b[0m\u001b[0;34m'message'\u001b[0m\u001b[0;34m]\u001b[0m\u001b[0;34m)\u001b[0m\u001b[0;34m\u001b[0m\u001b[0m\n\u001b[0m\u001b[1;32m    829\u001b[0m     \u001b[0;32mif\u001b[0m \u001b[0;34m'data'\u001b[0m \u001b[0;32mnot\u001b[0m \u001b[0;32min\u001b[0m \u001b[0mcontent\u001b[0m\u001b[0;34m:\u001b[0m\u001b[0;34m\u001b[0m\u001b[0m\n\u001b[1;32m    830\u001b[0m       \u001b[0;32mraise\u001b[0m \u001b[0mee_exception\u001b[0m\u001b[0;34m.\u001b[0m\u001b[0mEEException\u001b[0m\u001b[0;34m(\u001b[0m\u001b[0;34m'Malformed response: '\u001b[0m \u001b[0;34m+\u001b[0m \u001b[0mstr\u001b[0m\u001b[0;34m(\u001b[0m\u001b[0mcontent\u001b[0m\u001b[0;34m)\u001b[0m\u001b[0;34m)\u001b[0m\u001b[0;34m\u001b[0m\u001b[0m\n",
      "\u001b[0;31mEEException\u001b[0m: Image.load: Asset 'COPERNICUS/S2' is not an Image."
     ]
    }
   ],
   "source": [
    "image.getMapId()"
   ]
  },
  {
   "cell_type": "code",
   "execution_count": 22,
   "metadata": {},
   "outputs": [
    {
     "data": {
      "application/vnd.jupyter.widget-view+json": {
       "model_id": "c058917c078849488085cda39f15313a",
       "version_major": 2,
       "version_minor": 0
      },
      "text/plain": [
       "Map(basemap={'url': 'https://{s}.tile.openstreetmap.org/{z}/{x}/{y}.png', 'max_zoom': 19, 'attribution': 'Map …"
      ]
     },
     "metadata": {},
     "output_type": "display_data"
    }
   ],
   "source": [
    "map1 = ipyleaflet.Map(\n",
    "    center=(48.2082, 16.3779), zoom=10,\n",
    "    layout={'height':'400px'}\n",
    ")\n",
    "#map1.add_layer(\n",
    "#    ipyleaflet.TileLayer(url=GetTileLayerUrl(\n",
    "#         image.visualize(**vizParams)\n",
    "#    )\n",
    "#))\n",
    "map1"
   ]
  },
  {
   "cell_type": "code",
   "execution_count": 17,
   "metadata": {},
   "outputs": [
    {
     "ename": "EEException",
     "evalue": "Image.load: Asset 'COPERNICUS/S2' is not an Image.",
     "output_type": "error",
     "traceback": [
      "\u001b[0;31m---------------------------------------------------------------------------\u001b[0m",
      "\u001b[0;31mEEException\u001b[0m                               Traceback (most recent call last)",
      "\u001b[0;32m<ipython-input-17-d342bec376d3>\u001b[0m in \u001b[0;36m<module>\u001b[0;34m()\u001b[0m\n\u001b[1;32m      2\u001b[0m              \u001b[0mmin\u001b[0m\u001b[0;34m=\u001b[0m\u001b[0;36m0\u001b[0m\u001b[0;34m,\u001b[0m\u001b[0;34m\u001b[0m\u001b[0m\n\u001b[1;32m      3\u001b[0m              \u001b[0mmax\u001b[0m\u001b[0;34m=\u001b[0m\u001b[0;36m0.5\u001b[0m\u001b[0;34m,\u001b[0m\u001b[0;34m\u001b[0m\u001b[0m\n\u001b[0;32m----> 4\u001b[0;31m              gamma=[0.95, 1.1, 1]))\n\u001b[0m",
      "\u001b[0;32m<ipython-input-3-edeae36cf918>\u001b[0m in \u001b[0;36mGetTileLayerUrl\u001b[0;34m(ee_image_object)\u001b[0m\n\u001b[1;32m      1\u001b[0m \u001b[0;32mdef\u001b[0m \u001b[0mGetTileLayerUrl\u001b[0m\u001b[0;34m(\u001b[0m\u001b[0mee_image_object\u001b[0m\u001b[0;34m)\u001b[0m\u001b[0;34m:\u001b[0m\u001b[0;34m\u001b[0m\u001b[0m\n\u001b[1;32m      2\u001b[0m \u001b[0;31m#  map_id = ee.Image(ee_image_object).getMapId()\u001b[0m\u001b[0;34m\u001b[0m\u001b[0;34m\u001b[0m\u001b[0m\n\u001b[0;32m----> 3\u001b[0;31m   \u001b[0mmap_id\u001b[0m \u001b[0;34m=\u001b[0m \u001b[0mee_image_object\u001b[0m\u001b[0;34m.\u001b[0m\u001b[0mgetMapId\u001b[0m\u001b[0;34m(\u001b[0m\u001b[0;34m)\u001b[0m\u001b[0;34m\u001b[0m\u001b[0m\n\u001b[0m\u001b[1;32m      4\u001b[0m   \u001b[0mtile_url_template\u001b[0m \u001b[0;34m=\u001b[0m \u001b[0;34m\"https://earthengine.googleapis.com/map/{mapid}/{{z}}/{{x}}/{{y}}?token={token}\"\u001b[0m\u001b[0;34m\u001b[0m\u001b[0m\n\u001b[1;32m      5\u001b[0m   \u001b[0;32mreturn\u001b[0m \u001b[0mtile_url_template\u001b[0m\u001b[0;34m.\u001b[0m\u001b[0mformat\u001b[0m\u001b[0;34m(\u001b[0m\u001b[0;34m**\u001b[0m\u001b[0mmap_id\u001b[0m\u001b[0;34m)\u001b[0m\u001b[0;34m\u001b[0m\u001b[0m\n",
      "\u001b[0;32m~/anaconda3/envs/ee/lib/python3.6/site-packages/ee/image.py\u001b[0m in \u001b[0;36mgetMapId\u001b[0;34m(self, vis_params)\u001b[0m\n\u001b[1;32m    127\u001b[0m     \u001b[0mrequest\u001b[0m \u001b[0;34m=\u001b[0m \u001b[0;34m(\u001b[0m\u001b[0mvis_params\u001b[0m \u001b[0;32mor\u001b[0m \u001b[0;34m{\u001b[0m\u001b[0;34m}\u001b[0m\u001b[0;34m)\u001b[0m\u001b[0;34m.\u001b[0m\u001b[0mcopy\u001b[0m\u001b[0;34m(\u001b[0m\u001b[0;34m)\u001b[0m\u001b[0;34m\u001b[0m\u001b[0m\n\u001b[1;32m    128\u001b[0m     \u001b[0mrequest\u001b[0m\u001b[0;34m[\u001b[0m\u001b[0;34m'image'\u001b[0m\u001b[0;34m]\u001b[0m \u001b[0;34m=\u001b[0m \u001b[0mself\u001b[0m\u001b[0;34m.\u001b[0m\u001b[0mserialize\u001b[0m\u001b[0;34m(\u001b[0m\u001b[0;34m)\u001b[0m\u001b[0;34m\u001b[0m\u001b[0m\n\u001b[0;32m--> 129\u001b[0;31m     \u001b[0mresponse\u001b[0m \u001b[0;34m=\u001b[0m \u001b[0mdata\u001b[0m\u001b[0;34m.\u001b[0m\u001b[0mgetMapId\u001b[0m\u001b[0;34m(\u001b[0m\u001b[0mrequest\u001b[0m\u001b[0;34m)\u001b[0m\u001b[0;34m\u001b[0m\u001b[0m\n\u001b[0m\u001b[1;32m    130\u001b[0m     \u001b[0mresponse\u001b[0m\u001b[0;34m[\u001b[0m\u001b[0;34m'image'\u001b[0m\u001b[0;34m]\u001b[0m \u001b[0;34m=\u001b[0m \u001b[0mself\u001b[0m\u001b[0;34m\u001b[0m\u001b[0m\n\u001b[1;32m    131\u001b[0m     \u001b[0;32mreturn\u001b[0m \u001b[0mresponse\u001b[0m\u001b[0;34m\u001b[0m\u001b[0m\n",
      "\u001b[0;32m~/anaconda3/envs/ee/lib/python3.6/site-packages/ee/data.py\u001b[0m in \u001b[0;36mgetMapId\u001b[0;34m(params)\u001b[0m\n\u001b[1;32m    232\u001b[0m   \"\"\"\n\u001b[1;32m    233\u001b[0m   \u001b[0mparams\u001b[0m\u001b[0;34m[\u001b[0m\u001b[0;34m'json_format'\u001b[0m\u001b[0;34m]\u001b[0m \u001b[0;34m=\u001b[0m \u001b[0;34m'v2'\u001b[0m\u001b[0;34m\u001b[0m\u001b[0m\n\u001b[0;32m--> 234\u001b[0;31m   \u001b[0;32mreturn\u001b[0m \u001b[0msend_\u001b[0m\u001b[0;34m(\u001b[0m\u001b[0;34m'/mapid'\u001b[0m\u001b[0;34m,\u001b[0m \u001b[0mparams\u001b[0m\u001b[0;34m)\u001b[0m\u001b[0;34m\u001b[0m\u001b[0m\n\u001b[0m\u001b[1;32m    235\u001b[0m \u001b[0;34m\u001b[0m\u001b[0m\n\u001b[1;32m    236\u001b[0m \u001b[0;34m\u001b[0m\u001b[0m\n",
      "\u001b[0;32m~/anaconda3/envs/ee/lib/python3.6/site-packages/ee/data.py\u001b[0m in \u001b[0;36msend_\u001b[0;34m(path, params, opt_method, opt_raw)\u001b[0m\n\u001b[1;32m    826\u001b[0m       \u001b[0;32mraise\u001b[0m \u001b[0mee_exception\u001b[0m\u001b[0;34m.\u001b[0m\u001b[0mEEException\u001b[0m\u001b[0;34m(\u001b[0m\u001b[0;34m'Invalid JSON: %s'\u001b[0m \u001b[0;34m%\u001b[0m \u001b[0mcontent\u001b[0m\u001b[0;34m)\u001b[0m\u001b[0;34m\u001b[0m\u001b[0m\n\u001b[1;32m    827\u001b[0m     \u001b[0;32mif\u001b[0m \u001b[0;34m'error'\u001b[0m \u001b[0;32min\u001b[0m \u001b[0mjson_content\u001b[0m\u001b[0;34m:\u001b[0m\u001b[0;34m\u001b[0m\u001b[0m\n\u001b[0;32m--> 828\u001b[0;31m       \u001b[0;32mraise\u001b[0m \u001b[0mee_exception\u001b[0m\u001b[0;34m.\u001b[0m\u001b[0mEEException\u001b[0m\u001b[0;34m(\u001b[0m\u001b[0mjson_content\u001b[0m\u001b[0;34m[\u001b[0m\u001b[0;34m'error'\u001b[0m\u001b[0;34m]\u001b[0m\u001b[0;34m[\u001b[0m\u001b[0;34m'message'\u001b[0m\u001b[0;34m]\u001b[0m\u001b[0;34m)\u001b[0m\u001b[0;34m\u001b[0m\u001b[0m\n\u001b[0m\u001b[1;32m    829\u001b[0m     \u001b[0;32mif\u001b[0m \u001b[0;34m'data'\u001b[0m \u001b[0;32mnot\u001b[0m \u001b[0;32min\u001b[0m \u001b[0mcontent\u001b[0m\u001b[0;34m:\u001b[0m\u001b[0;34m\u001b[0m\u001b[0m\n\u001b[1;32m    830\u001b[0m       \u001b[0;32mraise\u001b[0m \u001b[0mee_exception\u001b[0m\u001b[0;34m.\u001b[0m\u001b[0mEEException\u001b[0m\u001b[0;34m(\u001b[0m\u001b[0;34m'Malformed response: '\u001b[0m \u001b[0;34m+\u001b[0m \u001b[0mstr\u001b[0m\u001b[0;34m(\u001b[0m\u001b[0mcontent\u001b[0m\u001b[0;34m)\u001b[0m\u001b[0;34m)\u001b[0m\u001b[0;34m\u001b[0m\u001b[0m\n",
      "\u001b[0;31mEEException\u001b[0m: Image.load: Asset 'COPERNICUS/S2' is not an Image."
     ]
    }
   ],
   "source": [
    "GetTileLayerUrl(image.visualize(bands= ['B5', 'B4', 'B3'],\n",
    "             min=0,\n",
    "             max=0.5,\n",
    "             gamma=[0.95, 1.1, 1]))"
   ]
  },
  {
   "cell_type": "code",
   "execution_count": 18,
   "metadata": {},
   "outputs": [
    {
     "ename": "EEException",
     "evalue": "Image.load: Asset 'COPERNICUS/S2' is not an Image.",
     "output_type": "error",
     "traceback": [
      "\u001b[0;31m---------------------------------------------------------------------------\u001b[0m",
      "\u001b[0;31mEEException\u001b[0m                               Traceback (most recent call last)",
      "\u001b[0;32m<ipython-input-18-c93ac7c53094>\u001b[0m in \u001b[0;36m<module>\u001b[0;34m()\u001b[0m\n\u001b[1;32m      1\u001b[0m print(ipyleaflet.TileLayer(url=GetTileLayerUrl(\n\u001b[0;32m----> 2\u001b[0;31m          image.visualize(**vizParams))))\n\u001b[0m",
      "\u001b[0;32m<ipython-input-3-edeae36cf918>\u001b[0m in \u001b[0;36mGetTileLayerUrl\u001b[0;34m(ee_image_object)\u001b[0m\n\u001b[1;32m      1\u001b[0m \u001b[0;32mdef\u001b[0m \u001b[0mGetTileLayerUrl\u001b[0m\u001b[0;34m(\u001b[0m\u001b[0mee_image_object\u001b[0m\u001b[0;34m)\u001b[0m\u001b[0;34m:\u001b[0m\u001b[0;34m\u001b[0m\u001b[0m\n\u001b[1;32m      2\u001b[0m \u001b[0;31m#  map_id = ee.Image(ee_image_object).getMapId()\u001b[0m\u001b[0;34m\u001b[0m\u001b[0;34m\u001b[0m\u001b[0m\n\u001b[0;32m----> 3\u001b[0;31m   \u001b[0mmap_id\u001b[0m \u001b[0;34m=\u001b[0m \u001b[0mee_image_object\u001b[0m\u001b[0;34m.\u001b[0m\u001b[0mgetMapId\u001b[0m\u001b[0;34m(\u001b[0m\u001b[0;34m)\u001b[0m\u001b[0;34m\u001b[0m\u001b[0m\n\u001b[0m\u001b[1;32m      4\u001b[0m   \u001b[0mtile_url_template\u001b[0m \u001b[0;34m=\u001b[0m \u001b[0;34m\"https://earthengine.googleapis.com/map/{mapid}/{{z}}/{{x}}/{{y}}?token={token}\"\u001b[0m\u001b[0;34m\u001b[0m\u001b[0m\n\u001b[1;32m      5\u001b[0m   \u001b[0;32mreturn\u001b[0m \u001b[0mtile_url_template\u001b[0m\u001b[0;34m.\u001b[0m\u001b[0mformat\u001b[0m\u001b[0;34m(\u001b[0m\u001b[0;34m**\u001b[0m\u001b[0mmap_id\u001b[0m\u001b[0;34m)\u001b[0m\u001b[0;34m\u001b[0m\u001b[0m\n",
      "\u001b[0;32m~/anaconda3/envs/ee/lib/python3.6/site-packages/ee/image.py\u001b[0m in \u001b[0;36mgetMapId\u001b[0;34m(self, vis_params)\u001b[0m\n\u001b[1;32m    127\u001b[0m     \u001b[0mrequest\u001b[0m \u001b[0;34m=\u001b[0m \u001b[0;34m(\u001b[0m\u001b[0mvis_params\u001b[0m \u001b[0;32mor\u001b[0m \u001b[0;34m{\u001b[0m\u001b[0;34m}\u001b[0m\u001b[0;34m)\u001b[0m\u001b[0;34m.\u001b[0m\u001b[0mcopy\u001b[0m\u001b[0;34m(\u001b[0m\u001b[0;34m)\u001b[0m\u001b[0;34m\u001b[0m\u001b[0m\n\u001b[1;32m    128\u001b[0m     \u001b[0mrequest\u001b[0m\u001b[0;34m[\u001b[0m\u001b[0;34m'image'\u001b[0m\u001b[0;34m]\u001b[0m \u001b[0;34m=\u001b[0m \u001b[0mself\u001b[0m\u001b[0;34m.\u001b[0m\u001b[0mserialize\u001b[0m\u001b[0;34m(\u001b[0m\u001b[0;34m)\u001b[0m\u001b[0;34m\u001b[0m\u001b[0m\n\u001b[0;32m--> 129\u001b[0;31m     \u001b[0mresponse\u001b[0m \u001b[0;34m=\u001b[0m \u001b[0mdata\u001b[0m\u001b[0;34m.\u001b[0m\u001b[0mgetMapId\u001b[0m\u001b[0;34m(\u001b[0m\u001b[0mrequest\u001b[0m\u001b[0;34m)\u001b[0m\u001b[0;34m\u001b[0m\u001b[0m\n\u001b[0m\u001b[1;32m    130\u001b[0m     \u001b[0mresponse\u001b[0m\u001b[0;34m[\u001b[0m\u001b[0;34m'image'\u001b[0m\u001b[0;34m]\u001b[0m \u001b[0;34m=\u001b[0m \u001b[0mself\u001b[0m\u001b[0;34m\u001b[0m\u001b[0m\n\u001b[1;32m    131\u001b[0m     \u001b[0;32mreturn\u001b[0m \u001b[0mresponse\u001b[0m\u001b[0;34m\u001b[0m\u001b[0m\n",
      "\u001b[0;32m~/anaconda3/envs/ee/lib/python3.6/site-packages/ee/data.py\u001b[0m in \u001b[0;36mgetMapId\u001b[0;34m(params)\u001b[0m\n\u001b[1;32m    232\u001b[0m   \"\"\"\n\u001b[1;32m    233\u001b[0m   \u001b[0mparams\u001b[0m\u001b[0;34m[\u001b[0m\u001b[0;34m'json_format'\u001b[0m\u001b[0;34m]\u001b[0m \u001b[0;34m=\u001b[0m \u001b[0;34m'v2'\u001b[0m\u001b[0;34m\u001b[0m\u001b[0m\n\u001b[0;32m--> 234\u001b[0;31m   \u001b[0;32mreturn\u001b[0m \u001b[0msend_\u001b[0m\u001b[0;34m(\u001b[0m\u001b[0;34m'/mapid'\u001b[0m\u001b[0;34m,\u001b[0m \u001b[0mparams\u001b[0m\u001b[0;34m)\u001b[0m\u001b[0;34m\u001b[0m\u001b[0m\n\u001b[0m\u001b[1;32m    235\u001b[0m \u001b[0;34m\u001b[0m\u001b[0m\n\u001b[1;32m    236\u001b[0m \u001b[0;34m\u001b[0m\u001b[0m\n",
      "\u001b[0;32m~/anaconda3/envs/ee/lib/python3.6/site-packages/ee/data.py\u001b[0m in \u001b[0;36msend_\u001b[0;34m(path, params, opt_method, opt_raw)\u001b[0m\n\u001b[1;32m    826\u001b[0m       \u001b[0;32mraise\u001b[0m \u001b[0mee_exception\u001b[0m\u001b[0;34m.\u001b[0m\u001b[0mEEException\u001b[0m\u001b[0;34m(\u001b[0m\u001b[0;34m'Invalid JSON: %s'\u001b[0m \u001b[0;34m%\u001b[0m \u001b[0mcontent\u001b[0m\u001b[0;34m)\u001b[0m\u001b[0;34m\u001b[0m\u001b[0m\n\u001b[1;32m    827\u001b[0m     \u001b[0;32mif\u001b[0m \u001b[0;34m'error'\u001b[0m \u001b[0;32min\u001b[0m \u001b[0mjson_content\u001b[0m\u001b[0;34m:\u001b[0m\u001b[0;34m\u001b[0m\u001b[0m\n\u001b[0;32m--> 828\u001b[0;31m       \u001b[0;32mraise\u001b[0m \u001b[0mee_exception\u001b[0m\u001b[0;34m.\u001b[0m\u001b[0mEEException\u001b[0m\u001b[0;34m(\u001b[0m\u001b[0mjson_content\u001b[0m\u001b[0;34m[\u001b[0m\u001b[0;34m'error'\u001b[0m\u001b[0;34m]\u001b[0m\u001b[0;34m[\u001b[0m\u001b[0;34m'message'\u001b[0m\u001b[0;34m]\u001b[0m\u001b[0;34m)\u001b[0m\u001b[0;34m\u001b[0m\u001b[0m\n\u001b[0m\u001b[1;32m    829\u001b[0m     \u001b[0;32mif\u001b[0m \u001b[0;34m'data'\u001b[0m \u001b[0;32mnot\u001b[0m \u001b[0;32min\u001b[0m \u001b[0mcontent\u001b[0m\u001b[0;34m:\u001b[0m\u001b[0;34m\u001b[0m\u001b[0m\n\u001b[1;32m    830\u001b[0m       \u001b[0;32mraise\u001b[0m \u001b[0mee_exception\u001b[0m\u001b[0;34m.\u001b[0m\u001b[0mEEException\u001b[0m\u001b[0;34m(\u001b[0m\u001b[0;34m'Malformed response: '\u001b[0m \u001b[0;34m+\u001b[0m \u001b[0mstr\u001b[0m\u001b[0;34m(\u001b[0m\u001b[0mcontent\u001b[0m\u001b[0;34m)\u001b[0m\u001b[0;34m)\u001b[0m\u001b[0;34m\u001b[0m\u001b[0m\n",
      "\u001b[0;31mEEException\u001b[0m: Image.load: Asset 'COPERNICUS/S2' is not an Image."
     ]
    }
   ],
   "source": [
    "print(ipyleaflet.TileLayer(url=GetTileLayerUrl(\n",
    "         image.visualize(**vizParams))))"
   ]
  },
  {
   "cell_type": "code",
   "execution_count": 19,
   "metadata": {},
   "outputs": [
    {
     "name": "stdout",
     "output_type": "stream",
     "text": [
      "ee.Image({\n",
      "  \"type\": \"Invocation\",\n",
      "  \"arguments\": {\n",
      "    \"id\": \"COPERNICUS/S2\"\n",
      "  },\n",
      "  \"functionName\": \"Image.load\"\n",
      "})\n"
     ]
    }
   ],
   "source": [
    "print(image)"
   ]
  },
  {
   "cell_type": "code",
   "execution_count": 20,
   "metadata": {},
   "outputs": [],
   "source": [
    "from ipyleaflet import Map \n"
   ]
  },
  {
   "cell_type": "code",
   "execution_count": 21,
   "metadata": {},
   "outputs": [
    {
     "data": {
      "application/vnd.jupyter.widget-view+json": {
       "model_id": "baad46a6a48e411292f23648250a97a5",
       "version_major": 2,
       "version_minor": 0
      },
      "text/plain": [
       "Map(basemap={'url': 'https://{s}.tile.openstreetmap.org/{z}/{x}/{y}.png', 'max_zoom': 19, 'attribution': 'Map …"
      ]
     },
     "metadata": {},
     "output_type": "display_data"
    }
   ],
   "source": [
    "Map(center=(-122.1899, 37.5010), zoom=10,\n",
    "    layout={'height':'400px'})"
   ]
  },
  {
   "cell_type": "code",
   "execution_count": null,
   "metadata": {},
   "outputs": [],
   "source": []
  },
  {
   "cell_type": "code",
   "execution_count": null,
   "metadata": {},
   "outputs": [],
   "source": []
  }
 ],
 "metadata": {
  "kernelspec": {
   "display_name": "Python 3",
   "language": "python",
   "name": "python3"
  },
  "language_info": {
   "codemirror_mode": {
    "name": "ipython",
    "version": 3
   },
   "file_extension": ".py",
   "mimetype": "text/x-python",
   "name": "python",
   "nbconvert_exporter": "python",
   "pygments_lexer": "ipython3",
   "version": "3.6.5"
  }
 },
 "nbformat": 4,
 "nbformat_minor": 2
}
