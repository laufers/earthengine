{
 "cells": [
  {
   "cell_type": "code",
   "execution_count": 1,
   "metadata": {},
   "outputs": [],
   "source": [
    "%matplotlib inline\n",
    "\n",
    "from IPython.display import Image\n",
    "\n",
    "import ee\n",
    "ee.Initialize()"
   ]
  },
  {
   "cell_type": "markdown",
   "metadata": {},
   "source": [
    "### Exporting images, map tiles, features, and videos\n",
    "\n",
    "Shows how to export assets using Google Earth Engine API."
   ]
  },
  {
   "cell_type": "code",
   "execution_count": 2,
   "metadata": {},
   "outputs": [],
   "source": [
    "# use ALOS DEM\n",
    "dem = ee.Image(\"JAXA/ALOS/AW3D30_V1_1\").select('MED')\n",
    "\n",
    "# define export region\n",
    "region = ee.Geometry.LineString([[93.116, 28.709], [93.148, 28.673]]).bounds()"
   ]
  },
  {
   "cell_type": "code",
   "execution_count": 3,
   "metadata": {},
   "outputs": [
    {
     "data": {
      "image/png": "[encoded data removed]",
      "text/plain": [
       "<IPython.core.display.Image object>"
      ]
     },
     "execution_count": 3,
     "metadata": {},
     "output_type": "execute_result"
    }
   ],
   "source": [
    "# preview image to be exported\n",
    "image = dem.visualize(**{ 'min': 3800, 'max': 5260 })\n",
    "\n",
    "# generate url to image thumbnail\n",
    "url = image.getThumbUrl({'region': region.getInfo(), 'dimensions': 256})\n",
    "\n",
    "# display image\n",
    "Image(url=url, embed=True, format='png')"
   ]
  },
  {
   "cell_type": "code",
   "execution_count": 4,
   "metadata": {},
   "outputs": [
    {
     "name": "stdout",
     "output_type": "stream",
     "text": [
      "TB3XLZMCTWDV2VTXQAJMXS4H\n"
     ]
    }
   ],
   "source": [
    "# schedule a new export image task, here we will export to Google Drive\n",
    "file_name = 'dem'\n",
    "export_region = region.getInfo()['coordinates'] # BUG: it should just accept region as-is\n",
    "task = ee.batch.Export.image.toDrive(dem, description=file_name, fileNamePrefix=file_name, region=export_region, scale=30)\n",
    "task.start()\n",
    "\n",
    "# remember task id and use it to check tasks status later\n",
    "task_id = task.id\n",
    "print(task_id)"
   ]
  },
  {
   "cell_type": "code",
   "execution_count": 5,
   "metadata": {},
   "outputs": [],
   "source": [
    "# create a new task using id\n",
    "task = ee.batch.Task(task_id)"
   ]
  },
  {
   "cell_type": "code",
   "execution_count": 6,
   "metadata": {},
   "outputs": [
    {
     "data": {
      "text/plain": [
       "{'id': 'TB3XLZMCTWDV2VTXQAJMXS4H',\n",
       " 'state': 'RUNNING',\n",
       " 'creation_timestamp_ms': 1531552170636,\n",
       " 'update_timestamp_ms': 1531552175455,\n",
       " 'description': 'dem',\n",
       " 'task_type': 'EXPORT_IMAGE',\n",
       " 'start_timestamp_ms': 1531552175272,\n",
       " 'progress': 0.0}"
      ]
     },
     "execution_count": 6,
     "metadata": {},
     "output_type": "execute_result"
    }
   ],
   "source": [
    "# query task status, it should go from READY -> RUNNING -> COMPLETED\n",
    "task.status()"
   ]
  },
  {
   "cell_type": "markdown",
   "metadata": {},
   "source": [
    "Tasks state can be one of: \n",
    "\n",
    "* __READY__\n",
    "* __RUNNING__\n",
    "* __COMPLETED__\n",
    "* __CANCELLED__\n",
    "* __CANCEL_REQUESTED__\n",
    "* __FAILED__\n",
    "\n",
    "TODO: embed state diagram here\n",
    "\n",
    "TODO: show how to fetch results from Google Drive"
   ]
  },
  {
   "cell_type": "code",
   "execution_count": 7,
   "metadata": {},
   "outputs": [
    {
     "name": "stdout",
     "output_type": "stream",
     "text": [
      "1\n",
      "<Task EXPORT_IMAGE: dem (COMPLETED)>\n"
     ]
    }
   ],
   "source": [
    "# query current user tasks\n",
    "tasks = ee.batch.Task.list()\n",
    "\n",
    "print(len(tasks))\n",
    "print(tasks[0])"
   ]
  },
  {
   "cell_type": "code",
   "execution_count": null,
   "metadata": {},
   "outputs": [],
   "source": []
  }
 ],
 "metadata": {
  "anaconda-cloud": {},
  "kernelspec": {
   "display_name": "Python 3",
   "language": "python",
   "name": "python3"
  },
  "language_info": {
   "codemirror_mode": {
    "name": "ipython",
    "version": 3
   },
   "file_extension": ".py",
   "mimetype": "text/x-python",
   "name": "python",
   "nbconvert_exporter": "python",
   "pygments_lexer": "ipython3",
   "version": "3.6.5"
  }
 },
 "nbformat": 4,
 "nbformat_minor": 1
}
