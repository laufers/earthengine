{
 "cells": [
  {
   "cell_type": "code",
   "execution_count": 1,
   "metadata": {},
   "outputs": [],
   "source": [
    "from IPython.display import Image\n",
    "import ee\n",
    "\n",
    "ee.Initialize()"
   ]
  },
  {
   "cell_type": "code",
   "execution_count": 2,
   "metadata": {},
   "outputs": [],
   "source": [
    "# Input data\n",
    "area_of_interest = ee.FeatureCollection('ft:1ihcmnTQF2dUYTKXOIYYwYlJzFLSpO7zsIxg0Yqd5')\n",
    "mexico_landcover_2010_landsat = ee.Image(\"users/renekope/MEX_LC_2010_Landsat_v43\").clip(area_of_interest)\n",
    "landsat8_collection = ee.ImageCollection('LANDSAT/LC8_L1T_TOA').filterDate('2016-01-01', '2016-04-19').min()\n",
    "landsat8_collection = landsat8_collection.slice(0,9)"
   ]
  },
  {
   "cell_type": "code",
   "execution_count": 3,
   "metadata": {},
   "outputs": [],
   "source": [
    "# Functions to derive vegetation indices and other raster operations\n",
    "def NDVI(image):\n",
    "    return image.normalizedDifference(['B5', 'B4'])\n",
    "\n",
    "def SAM(image):\n",
    "    band1 = image.select(\"B1\")\n",
    "    bandn = image.select(\"B2\",\"B3\",\"B4\",\"B5\",\"B6\",\"B7\",\"B8\",\"B9\");\n",
    "    maxObjSize = 256;\n",
    "    b = band1.divide(bandn);\n",
    "    spectralAngleMap = b.atan();\n",
    "    spectralAngleMap_sin = spectralAngleMap.sin();\n",
    "    spectralAngleMap_cos = spectralAngleMap.cos();\n",
    "    sum_cos = spectralAngleMap_cos.reduce(ee.call(\"Reducer.sum\"));\n",
    "    sum_sin = spectralAngleMap_sin.reduce(ee.call(\"Reducer.sum\"));\n",
    "    return ee.Image.cat(sum_sin, sum_cos, spectralAngleMap_sin, spectralAngleMap_cos);\n",
    "\n",
    "#Enhanced Vegetation Index\n",
    "def EVI(image):\n",
    "    # L(Canopy background)\n",
    "    # C1,C2(Coefficients of aerosol resistance term)\n",
    "    # GainFactor(Gain or scaling factor)\n",
    "    gain_factor = ee.Image(2.5);\n",
    "    coefficient_1 = ee.Image(6);\n",
    "    coefficient_2 = ee.Image(7.5);\n",
    "    l = ee.Image(1);\n",
    "    nir = image.select(\"B5\");\n",
    "    red = image.select(\"B4\");\n",
    "    blue = image.select(\"B2\");\n",
    "    evi = image.expression(\n",
    "        \"Gain_Factor*((NIR-RED)/(NIR+C1*RED-C2*BLUE+L))\",\n",
    "        {\n",
    "            \"Gain_Factor\":gain_factor,\n",
    "            \"NIR\":nir,\n",
    "            \"RED\":red,\n",
    "            \"C1\":coefficient_1,\n",
    "            \"C2\":coefficient_2,\n",
    "            \"BLUE\":blue,\n",
    "            \"L\":l\n",
    "        }\n",
    "    )\n",
    "    return evi\n",
    "\n",
    "#Atmospherically Resistant Vegetation Index\n",
    "def ARVI(image):\n",
    "    red = image.select(\"B4\")\n",
    "    blue = image.select(\"B2\")\n",
    "    nir = image.select(\"B5\")\n",
    "    red_square = red.multiply(red)\n",
    "    arvi = image.expression(\n",
    "        \"NIR - (REDsq - BLUE)/(NIR+(REDsq-BLUE))\",{\n",
    "            \"NIR\": nir,\n",
    "            \"REDsq\": red_square,\n",
    "            \"BLUE\": blue\n",
    "        }\n",
    "    )\n",
    "    return arvi\n",
    "\n",
    "#Leaf Area Index\n",
    "def LAI(image):\n",
    "    nir = image.select(\"B5\")\n",
    "    red = image.select(\"B4\")\n",
    "    coeff1 = ee.Image(0.0305);\n",
    "    coeff2 = ee.Image(1.2640);\n",
    "    lai = image.expression(\n",
    "        \"(((NIR/RED)*COEFF1)+COEFF2)\",\n",
    "        {\n",
    "            \"NIR\":nir,\n",
    "            \"RED\":red,\n",
    "            \"COEFF1\":coeff1,\n",
    "            \"COEFF2\":coeff2\n",
    "        }\n",
    "    )\n",
    "    return lai\n",
    "\n",
    "def tasseled_cap_transformation(image):\n",
    "    #Tasseled Cap Transformation for Landsat 8 based on the \n",
    "    #scientfic work \"Derivation of a tasselled cap transformation based on Landsat 8 at-satellite reflectance\" \n",
    "    #by M.Baigab, L.Zhang, T.Shuai & Q.Tong (2014). The bands of the output image are the brightness index, \n",
    "    #greenness index and wetness index.\n",
    "    b = image.select(\"B2\", \"B3\", \"B4\", \"B5\", \"B6\", \"B7\");\n",
    "    #Coefficients are only for Landsat 8 TOA\n",
    "    brightness_coefficents= ee.Image([0.3029, 0.2786, 0.4733, 0.5599, 0.508, 0.1872])\n",
    "    greenness_coefficents= ee.Image([-0.2941, -0.243, -0.5424, 0.7276, 0.0713, -0.1608]);\n",
    "    wetness_coefficents= ee.Image([0.1511, 0.1973, 0.3283, 0.3407, -0.7117, -0.4559]);\n",
    "    fourth_coefficents= ee.Image([-0.8239, 0.0849, 0.4396, -0.058, 0.2013, -0.2773]);\n",
    "    fifth_coefficents= ee.Image([-0.3294, 0.0557, 0.1056, 0.1855, -0.4349, 0.8085]);\n",
    "    sixth_coefficents= ee.Image([0.1079, -0.9023, 0.4119, 0.0575, -0.0259, 0.0252]);\n",
    "    \n",
    "    #Calculate tasseled cap transformation\n",
    "    brightness = image.expression(\n",
    "        '(B * BRIGHTNESS)',\n",
    "        {\n",
    "            'B':b,\n",
    "            'BRIGHTNESS': brightness_coefficents\n",
    "        })\n",
    "    greenness = image.expression(\n",
    "        '(B * GREENNESS)',\n",
    "        {\n",
    "            'B':b,\n",
    "            'GREENNESS': greenness_coefficents\n",
    "        })\n",
    "    wetness = image.expression(\n",
    "        '(B * WETNESS)',\n",
    "        {\n",
    "            'B':b,\n",
    "            'WETNESS': wetness_coefficents\n",
    "        })\n",
    "    fourth = image.expression(\n",
    "        '(B * FOURTH)',\n",
    "        {\n",
    "            'B':b,\n",
    "            'FOURTH': fourth_coefficents\n",
    "        })\n",
    "    fifth = image.expression(\n",
    "        '(B * FIFTH)',\n",
    "        {\n",
    "            'B':b,\n",
    "            'FIFTH': fifth_coefficents\n",
    "        })\n",
    "    sixth = image.expression(\n",
    "        '(B * SIXTH)',\n",
    "        {\n",
    "            'B':b,\n",
    "            'SIXTH': sixth_coefficents\n",
    "        })\n",
    "    bright = brightness.reduce(ee.call(\"Reducer.sum\"));\n",
    "    green = greenness.reduce(ee.call(\"Reducer.sum\"));\n",
    "    wet = wetness.reduce(ee.call(\"Reducer.sum\"));\n",
    "    four = fourth.reduce(ee.call(\"Reducer.sum\"));\n",
    "    five = fifth.reduce(ee.call(\"Reducer.sum\"));\n",
    "    six = sixth.reduce(ee.call(\"Reducer.sum\"));\n",
    "    tasseled_cap = ee.Image(bright).addBands(green).addBands(wet).addBands(four).addBands(five).addBands(six)\n",
    "    return tasseled_cap.rename('brightness','greenness','wetness','fourth','fifth','sixth')"
   ]
  },
  {
   "cell_type": "code",
   "execution_count": 4,
   "metadata": {},
   "outputs": [],
   "source": [
    "tct = tasseled_cap_transformation(landsat8_collection)"
   ]
  },
  {
   "cell_type": "code",
   "execution_count": 5,
   "metadata": {},
   "outputs": [
    {
     "data": {
      "text/plain": [
       "['brightness', 'greenness', 'wetness', 'fourth', 'fifth', 'sixth']"
      ]
     },
     "execution_count": 5,
     "metadata": {},
     "output_type": "execute_result"
    }
   ],
   "source": [
    "tct.bandNames().getInfo()"
   ]
  },
  {
   "cell_type": "code",
   "execution_count": 6,
   "metadata": {},
   "outputs": [
    {
     "data": {
      "text/html": [
       "<img src=\"https://earthengine.googleapis.com/api/thumb?thumbid=2abff9e00b005c6e54b3796872307b8d&token=5e1e22f1a713c7601f2be9147aadcb14\"/>"
      ],
      "text/plain": [
       "<IPython.core.display.Image object>"
      ]
     },
     "execution_count": 6,
     "metadata": {},
     "output_type": "execute_result"
    }
   ],
   "source": [
    "#Display thumbnail of classification output\n",
    "image = tct.clip(area_of_interest)\n",
    "theGeom = area_of_interest.geometry().getInfo()['coordinates']\n",
    "thumbnail = image.getThumbUrl({'min':-1,'max':1,'size':'800','region':theGeom})\n",
    "Image(url=thumbnail)"
   ]
  },
  {
   "cell_type": "code",
   "execution_count": 7,
   "metadata": {},
   "outputs": [],
   "source": [
    "#Derive indices, spectral angles and build an image stack\n",
    "ndvi = NDVI(landsat8_collection)\n",
    "sam = SAM(landsat8_collection)\n",
    "evi = EVI(landsat8_collection)\n",
    "arvi = ARVI(landsat8_collection)\n",
    "lai = LAI(landsat8_collection)\n",
    "spectral_indices_stack = ee.Image(ndvi).addBands(lai).addBands(sam).addBands(arvi).addBands(evi)"
   ]
  },
  {
   "cell_type": "code",
   "execution_count": 8,
   "metadata": {},
   "outputs": [],
   "source": [
    "#Define classification function\n",
    "def classification(raster_input, training_dataset,number_of_training_points, region, classification_algorithm):\n",
    "    bands = raster_input.bandNames()\n",
    "    points = ee.FeatureCollection.randomPoints(region, number_of_training_points, number_of_training_points, 1)\n",
    "    training = training_dataset.addBands(raster_input).reduceToVectors(\n",
    "        reducer=\"mean\",\n",
    "        geometry=points,\n",
    "        geometryType=\"centroid\",\n",
    "        scale=30, \n",
    "        crs=\"EPSG:4326\"\n",
    "    )\n",
    "\n",
    "    classifier = training.trainClassifier(\n",
    "        property_list=bands,\n",
    "        class_property=\"label\",\n",
    "        classifier_name=classification_algorithm\n",
    "    )\n",
    "    # Apply the classifier to the original composite.\n",
    "    out = raster_input.classify(classifier)\n",
    "    return out"
   ]
  },
  {
   "cell_type": "code",
   "execution_count": 9,
   "metadata": {},
   "outputs": [],
   "source": [
    "#Execute classification function\n",
    "output = classification(spectral_indices_stack, mexico_landcover_2010_landsat, 1000, area_of_interest, 'Cart')"
   ]
  },
  {
   "cell_type": "code",
   "execution_count": 10,
   "metadata": {},
   "outputs": [
    {
     "data": {
      "text/html": [
       "<img src=\"https://earthengine.googleapis.com/api/thumb?thumbid=5fb40f0badd8fc9a01dc91cd5be43ffa&token=59a7b875a7a2f19390d0098ee899d7a9\"/>"
      ],
      "text/plain": [
       "<IPython.core.display.Image object>"
      ]
     },
     "execution_count": 10,
     "metadata": {},
     "output_type": "execute_result"
    }
   ],
   "source": [
    "#Display thumbnail of classification output\n",
    "image = output.clip(area_of_interest)\n",
    "theGeom = area_of_interest.geometry().getInfo()['coordinates']\n",
    "thumbnail = image.getThumbUrl({'min':0,'max':211,'size':'800','region':theGeom})\n",
    "Image(url=thumbnail)"
   ]
  },
  {
   "cell_type": "markdown",
   "metadata": {
    "collapsed": true
   },
   "source": [
    "\n",
    "New test from api example"
   ]
  },
  {
   "cell_type": "code",
   "execution_count": 7,
   "metadata": {},
   "outputs": [],
   "source": [
    "image = ee.Image('LANDSAT/LC08/C01/T1_TOA/LC08_044034_20140318')\n",
    "\n",
    "vizParams = {'bands': ['B5', 'B4', 'B3'],\n",
    "             'min': 0,\n",
    "             'max': 0.5,\n",
    "             'gamma': [0.95, 1.1, 1]\n",
    "}"
   ]
  },
  {
   "cell_type": "code",
   "execution_count": null,
   "metadata": {},
   "outputs": [],
   "source": []
  }
 ],
 "metadata": {
  "kernelspec": {
   "display_name": "Python 3",
   "language": "python",
   "name": "python3"
  },
  "language_info": {
   "codemirror_mode": {
    "name": "ipython",
    "version": 3
   },
   "file_extension": ".py",
   "mimetype": "text/x-python",
   "name": "python",
   "nbconvert_exporter": "python",
   "pygments_lexer": "ipython3",
   "version": "3.6.5"
  }
 },
 "nbformat": 4,
 "nbformat_minor": 1
}
